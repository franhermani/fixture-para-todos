{
 "cells": [
  {
   "cell_type": "markdown",
   "id": "53e2ae5f",
   "metadata": {},
   "source": [
    "# Fixture Para Todos"
   ]
  },
  {
   "cell_type": "markdown",
   "id": "48372419",
   "metadata": {},
   "source": [
    "## Valores parametrizables por el usuario"
   ]
  },
  {
   "cell_type": "markdown",
   "id": "8d00a54e",
   "metadata": {},
   "source": [
    "### Cantidad de equipos a realizarles intercambios"
   ]
  },
  {
   "cell_type": "code",
   "execution_count": 1,
   "id": "1ac0311b",
   "metadata": {},
   "outputs": [],
   "source": [
    "n_team_to_be_swapped = 1"
   ]
  },
  {
   "cell_type": "markdown",
   "id": "eb3ccbc5",
   "metadata": {},
   "source": [
    "### Cantidad de intercambios a realizar por equipo"
   ]
  },
  {
   "cell_type": "code",
   "execution_count": 2,
   "id": "5902a0a7",
   "metadata": {},
   "outputs": [],
   "source": [
    "n_swaps_per_team = 2"
   ]
  },
  {
   "cell_type": "markdown",
   "id": "87dde75b",
   "metadata": {},
   "source": [
    "### Cantidad de iteraciones del algoritmo"
   ]
  },
  {
   "cell_type": "code",
   "execution_count": 3,
   "id": "a020a8e9",
   "metadata": {},
   "outputs": [],
   "source": [
    "n_iterations = 10"
   ]
  },
  {
   "cell_type": "markdown",
   "id": "38fdb30b",
   "metadata": {},
   "source": [
    "### Cantidad de iteraciones que se prohiben los intercambios previamente realizados"
   ]
  },
  {
   "cell_type": "code",
   "execution_count": 4,
   "id": "3dfb1ccc",
   "metadata": {},
   "outputs": [],
   "source": [
    "n_forbidden_iterations = 2"
   ]
  },
  {
   "cell_type": "markdown",
   "id": "8fad7050",
   "metadata": {},
   "source": [
    "## Importación de librerías"
   ]
  },
  {
   "cell_type": "code",
   "execution_count": 5,
   "id": "0bfd4ad0",
   "metadata": {},
   "outputs": [],
   "source": [
    "import csv\n",
    "import math\n",
    "from fixture_manager import FixtureManager\n",
    "from distance_travelled_manager import DistanceTravelledManager\n",
    "from restrictions_validator import RestrictionsValidator"
   ]
  },
  {
   "cell_type": "markdown",
   "id": "a438b12c",
   "metadata": {},
   "source": [
    "## Carga de archivos CSV"
   ]
  },
  {
   "cell_type": "code",
   "execution_count": 6,
   "id": "bf3bb4c8",
   "metadata": {},
   "outputs": [],
   "source": [
    "# Carga los equipos a partir del archivo csv\n",
    "def load_teams(path):\n",
    "    '''\n",
    "        Formato de los equipos:\n",
    "        [\"Equipo A\", ..., \"Equipo Z\"]\n",
    "    '''\n",
    "\n",
    "    teams = []\n",
    "    with open(path) as f:\n",
    "        content = f.readlines()\n",
    "    teams = [x.strip() for x in content]\n",
    "\n",
    "    return teams"
   ]
  },
  {
   "cell_type": "code",
   "execution_count": 7,
   "id": "7fd958f7",
   "metadata": {},
   "outputs": [],
   "source": [
    "# Carga las distancias a partir del archivo csv\n",
    "def load_distances(path):\n",
    "    '''\n",
    "        Formato de las distancias:\n",
    "        {\"Equipo A\": {\"Equipo B\": 100, ..., \"Equipo Z\": 200},\n",
    "        ...,\n",
    "        \"Equipo X\": {\"Equipo Y\": 150, ..., \"Equipo Z\": 300}\n",
    "        }\n",
    "    '''\n",
    "\n",
    "    distances = {}\n",
    "    header = True\n",
    "\n",
    "    with open(path) as csv_file:\n",
    "        csv_distances = csv.reader(csv_file, delimiter=\",\")\n",
    "        for row in csv_distances:\n",
    "            if header:\n",
    "                header = False\n",
    "                continue\n",
    "\n",
    "            team1, team2, distance = row[0], row[1], row[2]\n",
    "\n",
    "            if team1 not in distances:\n",
    "                distances[team1] = {}\n",
    "            distances[team1][team2] = distance\n",
    "\n",
    "            if team2 not in distances:\n",
    "                distances[team2] = {}\n",
    "            distances[team2][team1] = distance\n",
    "\n",
    "    return distances"
   ]
  },
  {
   "cell_type": "code",
   "execution_count": 8,
   "id": "76644b5c",
   "metadata": {},
   "outputs": [],
   "source": [
    "# Carga los derbies a partir del archivo csv\n",
    "def load_derbies(path):\n",
    "    '''\n",
    "    Formato de los derbies:\n",
    "        [(\"Equipo A\": \"Equipo B\"),\n",
    "        ...,\n",
    "        (\"Equipo Y\": \"Equipo Z\")\n",
    "        ]\n",
    "    '''\n",
    "\n",
    "    derbies = []\n",
    "    header = True\n",
    "\n",
    "    with open(path) as csv_file:\n",
    "        csv_derbies = csv.reader(csv_file, delimiter=\",\")\n",
    "        for row in csv_derbies:\n",
    "            if header:\n",
    "                header = False\n",
    "                continue\n",
    "\n",
    "            derbies.append((row[0], row[1]))\n",
    "\n",
    "    return derbies"
   ]
  },
  {
   "cell_type": "code",
   "execution_count": 9,
   "id": "5533e79d",
   "metadata": {},
   "outputs": [],
   "source": [
    "teams = load_teams(\"csv/test/teams.csv\")\n",
    "distances = load_distances(\"csv/test/distances.csv\")\n",
    "derbies = load_derbies(\"csv/test/derbies.csv\")"
   ]
  },
  {
   "cell_type": "markdown",
   "id": "6856a3c5",
   "metadata": {},
   "source": [
    "## Fixture Inicial"
   ]
  },
  {
   "cell_type": "markdown",
   "id": "c897c08e",
   "metadata": {},
   "source": [
    "### Generación"
   ]
  },
  {
   "cell_type": "code",
   "execution_count": 10,
   "id": "f5cff575",
   "metadata": {},
   "outputs": [],
   "source": [
    "fixture_manager = FixtureManager(teams, distances)\n",
    "initial_fixture = fixture_manager.calculate_initial_fixture()"
   ]
  },
  {
   "cell_type": "markdown",
   "id": "531d6e5e",
   "metadata": {},
   "source": [
    "### Validación"
   ]
  },
  {
   "cell_type": "code",
   "execution_count": 11,
   "id": "d20450e2",
   "metadata": {},
   "outputs": [
    {
     "data": {
      "text/plain": [
       "False"
      ]
     },
     "execution_count": 11,
     "metadata": {},
     "output_type": "execute_result"
    }
   ],
   "source": [
    "restrictions_validator = RestrictionsValidator()\n",
    "restrictions_validator.validate_fixture(initial_fixture, derbies, teams)"
   ]
  },
  {
   "cell_type": "markdown",
   "id": "3bc8844b",
   "metadata": {},
   "source": [
    "### Cálculo de la varianza"
   ]
  },
  {
   "cell_type": "code",
   "execution_count": 12,
   "id": "a1e6bcbc",
   "metadata": {},
   "outputs": [
    {
     "data": {
      "text/plain": [
       "27.748873851023216"
      ]
     },
     "execution_count": 12,
     "metadata": {},
     "output_type": "execute_result"
    }
   ],
   "source": [
    "distance_travelled_manager = DistanceTravelledManager(distances)\n",
    "distance_travelled_manager.calculate_km_traveled_variance(initial_fixture)"
   ]
  },
  {
   "cell_type": "markdown",
   "id": "ea759e92",
   "metadata": {},
   "source": [
    "## Fixtures Iterativos"
   ]
  },
  {
   "cell_type": "code",
   "execution_count": null,
   "id": "ce92a765",
   "metadata": {},
   "outputs": [],
   "source": []
  },
  {
   "cell_type": "markdown",
   "id": "09c56d60",
   "metadata": {},
   "source": [
    "## Fixture Final"
   ]
  },
  {
   "cell_type": "code",
   "execution_count": 13,
   "id": "d924ff9f",
   "metadata": {},
   "outputs": [
    {
     "name": "stdout",
     "output_type": "stream",
     "text": [
      "--------------------------------------------------------------\n",
      "--------------------- FIXTURE PARA TODOS ---------------------\n",
      "--------------------------------------------------------------\n",
      "\n",
      "Fecha 1:\n",
      "\tBelgrano\t\tVs.\t\tBoca Juniors\n",
      "\tTalleres\t\tVs.\t\tRiver Plate\n",
      "\n",
      "Fecha 2:\n",
      "\tBoca Juniors\t\tVs.\t\tTalleres\n",
      "\tRiver Plate\t\tVs.\t\tBelgrano\n",
      "\n",
      "Fecha 3:\n",
      "\tBelgrano\t\tVs.\t\tTalleres\n",
      "\tBoca Juniors\t\tVs.\t\tRiver Plate\n"
     ]
    }
   ],
   "source": [
    "fixture_manager.print(initial_fixture)"
   ]
  },
  {
   "cell_type": "code",
   "execution_count": null,
   "id": "ddaf9635",
   "metadata": {},
   "outputs": [],
   "source": []
  }
 ],
 "metadata": {
  "kernelspec": {
   "display_name": "Python 3 (ipykernel)",
   "language": "python",
   "name": "python3"
  },
  "language_info": {
   "codemirror_mode": {
    "name": "ipython",
    "version": 3
   },
   "file_extension": ".py",
   "mimetype": "text/x-python",
   "name": "python",
   "nbconvert_exporter": "python",
   "pygments_lexer": "ipython3",
   "version": "3.9.1"
  }
 },
 "nbformat": 4,
 "nbformat_minor": 5
}
