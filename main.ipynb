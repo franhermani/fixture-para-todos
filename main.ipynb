{
 "cells": [
  {
   "cell_type": "markdown",
   "id": "5ac1ea1f",
   "metadata": {},
   "source": [
    "# Fixture Para Todos"
   ]
  },
  {
   "cell_type": "markdown",
   "id": "70afeafa",
   "metadata": {},
   "source": [
    "## Importación de librerías"
   ]
  },
  {
   "cell_type": "code",
   "execution_count": 1,
   "id": "f8c13542",
   "metadata": {},
   "outputs": [],
   "source": [
    "import csv\n",
    "import math\n",
    "from fixture_manager import FixtureManager\n",
    "from distance_travelled_manager import DistanceTravelledManager\n",
    "from restrictions_validator import RestrictionsValidator"
   ]
  },
  {
   "cell_type": "markdown",
   "id": "d2dcee34",
   "metadata": {},
   "source": [
    "## Carga de archivos CSV"
   ]
  },
  {
   "cell_type": "code",
   "execution_count": 2,
   "id": "24ccdf61",
   "metadata": {},
   "outputs": [],
   "source": [
    "# Carga los equipos a partir del archivo csv\n",
    "def load_teams(path):\n",
    "    '''\n",
    "        Formato de los equipos:\n",
    "        [\"Equipo A\", ..., \"Equipo Z\"]\n",
    "    '''\n",
    "\n",
    "    teams = []\n",
    "    with open(path) as f:\n",
    "        content = f.readlines()\n",
    "    teams = [x.strip() for x in content]\n",
    "\n",
    "    return teams"
   ]
  },
  {
   "cell_type": "code",
   "execution_count": 3,
   "id": "fb728657",
   "metadata": {},
   "outputs": [],
   "source": [
    "# Carga las distancias a partir del archivo csv\n",
    "def load_distances(path):\n",
    "    '''\n",
    "        Formato de las distancias:\n",
    "        {\"Equipo A\": {\"Equipo B\": 100, ..., \"Equipo Z\": 200},\n",
    "        ...,\n",
    "        \"Equipo X\": {\"Equipo Y\": 150, ..., \"Equipo Z\": 300}\n",
    "        }\n",
    "    '''\n",
    "\n",
    "    distances = {}\n",
    "    header = True\n",
    "\n",
    "    with open(path) as csv_file:\n",
    "        csv_distances = csv.reader(csv_file, delimiter=\",\")\n",
    "        for row in csv_distances:\n",
    "            if header:\n",
    "                header = False\n",
    "                continue\n",
    "\n",
    "            team1, team2, distance = row[0], row[1], row[2]\n",
    "\n",
    "            if team1 not in distances:\n",
    "                distances[team1] = {}\n",
    "            distances[team1][team2] = distance\n",
    "\n",
    "            if team2 not in distances:\n",
    "                distances[team2] = {}\n",
    "            distances[team2][team1] = distance\n",
    "\n",
    "    return distances"
   ]
  },
  {
   "cell_type": "code",
   "execution_count": 4,
   "id": "5607b36d",
   "metadata": {},
   "outputs": [],
   "source": [
    "# Carga los derbies a partir del archivo csv\n",
    "def load_derbies(path):\n",
    "    '''\n",
    "    Formato de los derbies:\n",
    "        [(\"Equipo A\": \"Equipo B\"),\n",
    "        ...,\n",
    "        (\"Equipo Y\": \"Equipo Z\")\n",
    "        ]\n",
    "    '''\n",
    "\n",
    "    derbies = []\n",
    "    header = True\n",
    "\n",
    "    with open(path) as csv_file:\n",
    "        csv_derbies = csv.reader(csv_file, delimiter=\",\")\n",
    "        for row in csv_derbies:\n",
    "            if header:\n",
    "                header = False\n",
    "                continue\n",
    "\n",
    "            derbies.append((row[0], row[1]))\n",
    "\n",
    "    return derbies"
   ]
  },
  {
   "cell_type": "code",
   "execution_count": 5,
   "id": "99478acb",
   "metadata": {},
   "outputs": [],
   "source": [
    "teams = load_teams(\"csv/test/teams.csv\")\n",
    "distances = load_distances(\"csv/test/distances.csv\")\n",
    "derbies = load_derbies(\"csv/test/derbies.csv\")"
   ]
  },
  {
   "cell_type": "markdown",
   "id": "a9cf0ea7",
   "metadata": {},
   "source": [
    "## Fixture Inicial"
   ]
  },
  {
   "cell_type": "markdown",
   "id": "5e373def",
   "metadata": {},
   "source": [
    "### Generación"
   ]
  },
  {
   "cell_type": "code",
   "execution_count": 6,
   "id": "c419cdba",
   "metadata": {},
   "outputs": [],
   "source": [
    "fixture_manager = FixtureManager(teams, distances)\n",
    "initial_fixture = fixture_manager.calculate_initial_fixture()"
   ]
  },
  {
   "cell_type": "markdown",
   "id": "a24e081f",
   "metadata": {},
   "source": [
    "### Validación"
   ]
  },
  {
   "cell_type": "code",
   "execution_count": 7,
   "id": "391e04a9",
   "metadata": {},
   "outputs": [
    {
     "data": {
      "text/plain": [
       "True"
      ]
     },
     "execution_count": 7,
     "metadata": {},
     "output_type": "execute_result"
    }
   ],
   "source": [
    "restrictions_validator = RestrictionsValidator()\n",
    "restrictions_validator.validate_fixture(initial_fixture, derbies, teams)"
   ]
  },
  {
   "cell_type": "markdown",
   "id": "e4b37594",
   "metadata": {},
   "source": [
    "### Cálculo de la varianza"
   ]
  },
  {
   "cell_type": "code",
   "execution_count": 8,
   "id": "e2428264",
   "metadata": {},
   "outputs": [
    {
     "data": {
      "text/plain": [
       "983.6920249752968"
      ]
     },
     "execution_count": 8,
     "metadata": {},
     "output_type": "execute_result"
    }
   ],
   "source": [
    "distance_travelled_manager = DistanceTravelledManager(distances)\n",
    "distance_travelled_manager.calculate_km_traveled_variance(initial_fixture)"
   ]
  },
  {
   "cell_type": "markdown",
   "id": "22938ffc",
   "metadata": {},
   "source": [
    "## Fixtures Iterativos"
   ]
  },
  {
   "cell_type": "code",
   "execution_count": null,
   "id": "27b1ba81",
   "metadata": {},
   "outputs": [],
   "source": []
  },
  {
   "cell_type": "markdown",
   "id": "d11a2e57",
   "metadata": {},
   "source": [
    "## Fixture Final"
   ]
  },
  {
   "cell_type": "code",
   "execution_count": null,
   "id": "f5e618c7",
   "metadata": {},
   "outputs": [],
   "source": [
    "fixture_manager.print()"
   ]
  }
 ],
 "metadata": {
  "kernelspec": {
   "display_name": "Python 3 (ipykernel)",
   "language": "python",
   "name": "python3"
  },
  "language_info": {
   "codemirror_mode": {
    "name": "ipython",
    "version": 3
   },
   "file_extension": ".py",
   "mimetype": "text/x-python",
   "name": "python",
   "nbconvert_exporter": "python",
   "pygments_lexer": "ipython3",
   "version": "3.9.1"
  }
 },
 "nbformat": 4,
 "nbformat_minor": 5
}
