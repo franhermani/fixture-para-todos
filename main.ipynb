{
 "cells": [
  {
   "cell_type": "markdown",
   "id": "53e2ae5f",
   "metadata": {},
   "source": [
    "# Fixture Para Todos"
   ]
  },
  {
   "cell_type": "markdown",
   "id": "9ffa070b",
   "metadata": {},
   "source": [
    "## Cantidad de equipos"
   ]
  },
  {
   "cell_type": "markdown",
   "id": "cae1aa16",
   "metadata": {},
   "source": [
    "Opciones: 4, 6, 8 y 10"
   ]
  },
  {
   "cell_type": "code",
   "execution_count": 1,
   "id": "5c849b48",
   "metadata": {},
   "outputs": [],
   "source": [
    "n_teams = 8"
   ]
  },
  {
   "cell_type": "markdown",
   "id": "48372419",
   "metadata": {},
   "source": [
    "## Valores parametrizables del algoritmo"
   ]
  },
  {
   "cell_type": "markdown",
   "id": "8d00a54e",
   "metadata": {},
   "source": [
    "### Tiempo máximo de ejecución (en minutos)"
   ]
  },
  {
   "cell_type": "markdown",
   "id": "601536e5",
   "metadata": {},
   "source": [
    "Ingresar -1 para que el algoritmo no corte por tiempo"
   ]
  },
  {
   "cell_type": "code",
   "execution_count": 2,
   "id": "1ac0311b",
   "metadata": {},
   "outputs": [],
   "source": [
    "max_execution_time = -1"
   ]
  },
  {
   "cell_type": "markdown",
   "id": "eb3ccbc5",
   "metadata": {},
   "source": [
    "### Porcentaje de mejora de la varianza"
   ]
  },
  {
   "cell_type": "markdown",
   "id": "7e562017",
   "metadata": {},
   "source": [
    "Ingresar -1 para que el algoritmo no corte por porcentaje de mejora"
   ]
  },
  {
   "cell_type": "code",
   "execution_count": 3,
   "id": "5902a0a7",
   "metadata": {},
   "outputs": [],
   "source": [
    "variance_improve_perc = 30"
   ]
  },
  {
   "cell_type": "markdown",
   "id": "87dde75b",
   "metadata": {},
   "source": [
    "### Cantidad de iteraciones del algoritmo"
   ]
  },
  {
   "cell_type": "markdown",
   "id": "9c291097",
   "metadata": {},
   "source": [
    "Ingresar -1 para que el algoritmo no corte por cantidad de iteraciones"
   ]
  },
  {
   "cell_type": "code",
   "execution_count": 4,
   "id": "a020a8e9",
   "metadata": {},
   "outputs": [],
   "source": [
    "n_iterations = 100"
   ]
  },
  {
   "cell_type": "code",
   "execution_count": 5,
   "id": "58b5411d",
   "metadata": {},
   "outputs": [],
   "source": [
    "heuristic_params = {\"max_execution_time\": max_execution_time,\n",
    "                    \"variance_improve_perc\": variance_improve_perc,\n",
    "                    \"n_iterations\": n_iterations}"
   ]
  },
  {
   "cell_type": "markdown",
   "id": "0d03ef54",
   "metadata": {},
   "source": [
    "## Parámetros de las restricciones"
   ]
  },
  {
   "cell_type": "markdown",
   "id": "ef7e1f8d",
   "metadata": {},
   "source": [
    "### Restricción 1"
   ]
  },
  {
   "cell_type": "markdown",
   "id": "3e9b31ad",
   "metadata": {},
   "source": [
    "Todos los equipos deben jugar la misma cantidad de partidos de local y de visitante que el resto o, a lo sumo, <b>param_r1</b> partido/s de diferencia con respecto al resto de los equipos"
   ]
  },
  {
   "cell_type": "code",
   "execution_count": 6,
   "id": "ac90b463",
   "metadata": {},
   "outputs": [],
   "source": [
    "param_r1 = 1"
   ]
  },
  {
   "cell_type": "markdown",
   "id": "736c34f0",
   "metadata": {},
   "source": [
    "### Restricción 2"
   ]
  },
  {
   "cell_type": "markdown",
   "id": "475f5497",
   "metadata": {},
   "source": [
    "Todos los equipos deben jugar la misma cantidad de partidos de local y de visitante o, a lo sumo, <b>param_r2</b> partido/s de diferencia entre ambas condiciones"
   ]
  },
  {
   "cell_type": "code",
   "execution_count": 7,
   "id": "cd8cf425",
   "metadata": {},
   "outputs": [],
   "source": [
    "param_r2 = 1"
   ]
  },
  {
   "cell_type": "markdown",
   "id": "6f390930",
   "metadata": {},
   "source": [
    "### Restricción 3"
   ]
  },
  {
   "cell_type": "markdown",
   "id": "113b5d5b",
   "metadata": {},
   "source": [
    "Ningún equipo puede jugar más de <b>param_r3</b> partidos consecutivos en la misma condición"
   ]
  },
  {
   "cell_type": "code",
   "execution_count": 8,
   "id": "b0b03735",
   "metadata": {},
   "outputs": [],
   "source": [
    "param_r3 = 2"
   ]
  },
  {
   "cell_type": "markdown",
   "id": "397188a6",
   "metadata": {},
   "source": [
    "### Restricción 4"
   ]
  },
  {
   "cell_type": "markdown",
   "id": "47dc8cc3",
   "metadata": {},
   "source": [
    "Los equipos considerados clásicos entre sí no pueden jugar de local en la misma fecha"
   ]
  },
  {
   "cell_type": "code",
   "execution_count": 9,
   "id": "e4753ec2",
   "metadata": {},
   "outputs": [],
   "source": [
    "restrictions_params = {\"r1\": param_r1, \"r2\": param_r2, \"r3\": param_r3}"
   ]
  },
  {
   "cell_type": "markdown",
   "id": "8fad7050",
   "metadata": {},
   "source": [
    "## Importación de librerías y archivos"
   ]
  },
  {
   "cell_type": "code",
   "execution_count": 10,
   "id": "0bfd4ad0",
   "metadata": {},
   "outputs": [],
   "source": [
    "import csv\n",
    "import math\n",
    "import time\n",
    "from fixture_manager import FixtureManager\n",
    "from distance_travelled_manager import DistanceTravelledManager"
   ]
  },
  {
   "cell_type": "markdown",
   "id": "a438b12c",
   "metadata": {},
   "source": [
    "## Carga de archivos CSV"
   ]
  },
  {
   "cell_type": "code",
   "execution_count": 11,
   "id": "bf3bb4c8",
   "metadata": {},
   "outputs": [],
   "source": [
    "# Carga los equipos a partir del archivo csv\n",
    "def load_teams(path):\n",
    "    '''\n",
    "        Formato de los equipos:\n",
    "        [\"Equipo A\", ..., \"Equipo Z\"]\n",
    "    '''\n",
    "\n",
    "    teams = []\n",
    "    with open(path) as f:\n",
    "        content = f.readlines()\n",
    "    teams = [x.strip() for x in content]\n",
    "\n",
    "    return teams"
   ]
  },
  {
   "cell_type": "code",
   "execution_count": 12,
   "id": "7fd958f7",
   "metadata": {},
   "outputs": [],
   "source": [
    "# Carga las distancias a partir del archivo csv\n",
    "def load_distances(path):\n",
    "    '''\n",
    "        Formato de las distancias:\n",
    "        {\"Equipo A\": {\"Equipo B\": 100, ..., \"Equipo Z\": 200},\n",
    "        ...,\n",
    "        \"Equipo X\": {\"Equipo Y\": 150, ..., \"Equipo Z\": 300}\n",
    "        }\n",
    "    '''\n",
    "\n",
    "    distances = {}\n",
    "    header = True\n",
    "\n",
    "    with open(path) as csv_file:\n",
    "        csv_distances = csv.reader(csv_file, delimiter=\",\")\n",
    "        for row in csv_distances:\n",
    "            if header:\n",
    "                header = False\n",
    "                continue\n",
    "\n",
    "            team1, team2, distance = row[0], row[1], row[2]\n",
    "\n",
    "            if team1 not in distances:\n",
    "                distances[team1] = {}\n",
    "            distances[team1][team2] = distance\n",
    "\n",
    "            if team2 not in distances:\n",
    "                distances[team2] = {}\n",
    "            distances[team2][team1] = distance\n",
    "\n",
    "    return distances"
   ]
  },
  {
   "cell_type": "code",
   "execution_count": 13,
   "id": "76644b5c",
   "metadata": {},
   "outputs": [],
   "source": [
    "# Carga los derbies a partir del archivo csv\n",
    "def load_derbies(path):\n",
    "    '''\n",
    "    Formato de los derbies:\n",
    "        {\"Equipo A\": \"Equipo B\",\n",
    "        ...,\n",
    "        \"Equipo Y\": \"Equipo Z\"\n",
    "        }\n",
    "    '''\n",
    "\n",
    "    derbies = {}\n",
    "    header = True\n",
    "\n",
    "    with open(path) as csv_file:\n",
    "        csv_derbies = csv.reader(csv_file, delimiter=\",\")\n",
    "        for row in csv_derbies:\n",
    "            if header:\n",
    "                header = False\n",
    "                continue\n",
    "            \n",
    "            team1 = row[0]\n",
    "            team2 = row[1]\n",
    "            derbies[team1] = team2\n",
    "            derbies[team2] = team1\n",
    "\n",
    "    return derbies"
   ]
  },
  {
   "cell_type": "code",
   "execution_count": 14,
   "id": "5533e79d",
   "metadata": {},
   "outputs": [],
   "source": [
    "base_path = \"csv/\" + str(n_teams) + \"-teams/\"\n",
    "\n",
    "teams = load_teams(base_path + \"teams.csv\")\n",
    "distances = load_distances(base_path + \"distances.csv\")\n",
    "derbies = load_derbies(base_path + \"derbies.csv\")"
   ]
  },
  {
   "cell_type": "markdown",
   "id": "1fa02d55",
   "metadata": {},
   "source": [
    "## Creación del Fixture Manager"
   ]
  },
  {
   "cell_type": "code",
   "execution_count": 15,
   "id": "c6304940",
   "metadata": {},
   "outputs": [],
   "source": [
    "fixture_manager = FixtureManager(teams, derbies, restrictions_params, distances, heuristic_params)"
   ]
  },
  {
   "cell_type": "markdown",
   "id": "6856a3c5",
   "metadata": {},
   "source": [
    "## Fixture Inicial"
   ]
  },
  {
   "cell_type": "markdown",
   "id": "c897c08e",
   "metadata": {},
   "source": [
    "### Generación"
   ]
  },
  {
   "cell_type": "code",
   "execution_count": 16,
   "id": "f5cff575",
   "metadata": {},
   "outputs": [
    {
     "name": "stdout",
     "output_type": "stream",
     "text": [
      "Calculando fixture. Por favor espere...\n",
      "\n",
      "Km recorridos por cada equipo:\n",
      "- Talleres: 1901\n",
      "- Union: 709\n",
      "- River Plate: 1445\n",
      "- Newells: 723\n",
      "- Boca Juniors: 1663\n",
      "- Rosario Central: 1199\n",
      "- Belgrano: 1076\n",
      "- Colon: 998\n",
      "\n",
      "Varianza de los km recorridos por todos los equipos:\n",
      "1135.32\n",
      "\n",
      "\n"
     ]
    }
   ],
   "source": [
    "start = time.time()\n",
    "initial_fixture = fixture_manager.calculate_initial_fixture()\n",
    "end = time.time()"
   ]
  },
  {
   "cell_type": "code",
   "execution_count": 17,
   "id": "c27500ab",
   "metadata": {},
   "outputs": [
    {
     "name": "stdout",
     "output_type": "stream",
     "text": [
      "Tiempo transcurrido: 0.3 segundos\n"
     ]
    }
   ],
   "source": [
    "print(\"Tiempo transcurrido: \" + str(round(end - start, 2)) + \" segundos\")"
   ]
  },
  {
   "cell_type": "code",
   "execution_count": 18,
   "id": "cc74e202",
   "metadata": {},
   "outputs": [
    {
     "name": "stdout",
     "output_type": "stream",
     "text": [
      "--------------------------------------------------------------\n",
      "--------------------- FIXTURE PARA TODOS ---------------------\n",
      "--------------------------------------------------------------\n",
      "\n",
      "Fecha 1:\n",
      "\tRosario Central\t\tVs.\t\tTalleres\n",
      "\tColon\t\t\tVs.\t\tUnion\n",
      "\tBelgrano\t\tVs.\t\tRiver Plate\n",
      "\tBoca Juniors\t\tVs.\t\tNewells\n",
      "\n",
      "Fecha 2:\n",
      "\tBelgrano\t\tVs.\t\tNewells\n",
      "\tRosario Central\t\tVs.\t\tUnion\n",
      "\tRiver Plate\t\tVs.\t\tTalleres\n",
      "\tColon\t\t\tVs.\t\tBoca Juniors\n",
      "\n",
      "Fecha 3:\n",
      "\tRiver Plate\t\tVs.\t\tRosario Central\n",
      "\tTalleres\t\tVs.\t\tBelgrano\n",
      "\tNewells\t\t\tVs.\t\tColon\n",
      "\tUnion\t\t\tVs.\t\tBoca Juniors\n",
      "\n",
      "Fecha 4:\n",
      "\tColon\t\t\tVs.\t\tTalleres\n",
      "\tNewells\t\t\tVs.\t\tUnion\n",
      "\tBoca Juniors\t\tVs.\t\tRiver Plate\n",
      "\tBelgrano\t\tVs.\t\tRosario Central\n",
      "\n",
      "Fecha 5:\n",
      "\tRiver Plate\t\tVs.\t\tColon\n",
      "\tUnion\t\t\tVs.\t\tBelgrano\n",
      "\tRosario Central\t\tVs.\t\tNewells\n",
      "\tTalleres\t\tVs.\t\tBoca Juniors\n",
      "\n",
      "Fecha 6:\n",
      "\tBoca Juniors\t\tVs.\t\tBelgrano\n",
      "\tColon\t\t\tVs.\t\tRosario Central\n",
      "\tNewells\t\t\tVs.\t\tRiver Plate\n",
      "\tTalleres\t\tVs.\t\tUnion\n",
      "\n",
      "Fecha 7:\n",
      "\tUnion\t\t\tVs.\t\tRiver Plate\n",
      "\tBoca Juniors\t\tVs.\t\tRosario Central\n",
      "\tNewells\t\t\tVs.\t\tTalleres\n",
      "\tBelgrano\t\tVs.\t\tColon\n"
     ]
    }
   ],
   "source": [
    "fixture_manager.print(initial_fixture)"
   ]
  },
  {
   "cell_type": "markdown",
   "id": "531d6e5e",
   "metadata": {},
   "source": [
    "### Validación"
   ]
  },
  {
   "cell_type": "code",
   "execution_count": 19,
   "id": "d20450e2",
   "metadata": {},
   "outputs": [
    {
     "name": "stdout",
     "output_type": "stream",
     "text": [
      "¿Fixture compatible?\n"
     ]
    },
    {
     "data": {
      "text/plain": [
       "True"
      ]
     },
     "execution_count": 19,
     "metadata": {},
     "output_type": "execute_result"
    }
   ],
   "source": [
    "print(\"¿Fixture compatible?\")\n",
    "fixture_manager.is_compatible(initial_fixture)"
   ]
  },
  {
   "cell_type": "markdown",
   "id": "3bc8844b",
   "metadata": {},
   "source": [
    "### Cálculo de la varianza"
   ]
  },
  {
   "cell_type": "code",
   "execution_count": 20,
   "id": "a1e6bcbc",
   "metadata": {},
   "outputs": [
    {
     "data": {
      "text/plain": [
       "1135.32"
      ]
     },
     "execution_count": 20,
     "metadata": {},
     "output_type": "execute_result"
    }
   ],
   "source": [
    "initial_variance = fixture_manager.calculate_km_travelled_variance(initial_fixture)\n",
    "fixture_manager.initial_variance = initial_variance\n",
    "initial_variance"
   ]
  },
  {
   "cell_type": "markdown",
   "id": "ea759e92",
   "metadata": {},
   "source": [
    "## Fixture Optimizado"
   ]
  },
  {
   "cell_type": "code",
   "execution_count": 21,
   "id": "ce92a765",
   "metadata": {},
   "outputs": [
    {
     "name": "stdout",
     "output_type": "stream",
     "text": [
      "ITERACIÓN N° 1\n",
      "\n",
      "Calculando fixture. Por favor espere...\n",
      "\n",
      "Km recorridos por cada equipo:\n",
      "- Colon: 1166\n",
      "- Talleres: 1513\n",
      "- River Plate: 2140\n",
      "- Newells: 864\n",
      "- Belgrano: 1478\n",
      "- Union: 843\n",
      "- Rosario Central: 912\n",
      "- Boca Juniors: 798\n",
      "\n",
      "Varianza de los km recorridos por todos los equipos:\n",
      "1242.29\n",
      "\n",
      "\n",
      "ITERACIÓN N° 2\n",
      "\n",
      "Calculando fixture. Por favor espere...\n",
      "\n",
      "Km recorridos por cada equipo:\n",
      "- Rosario Central: 757\n",
      "- Belgrano: 1887\n",
      "- Colon: 1304\n",
      "- Boca Juniors: 1354\n",
      "- Talleres: 1073\n",
      "- Union: 1289\n",
      "- Newells: 762\n",
      "- River Plate: 1288\n",
      "\n",
      "Varianza de los km recorridos por todos los equipos:\n",
      "961.65\n",
      "\n",
      "\n"
     ]
    }
   ],
   "source": [
    "start = time.time()\n",
    "optimized_fixture = fixture_manager.calculate_optimized_fixture()\n",
    "end = time.time()"
   ]
  },
  {
   "cell_type": "code",
   "execution_count": 22,
   "id": "44fc020b",
   "metadata": {},
   "outputs": [
    {
     "name": "stdout",
     "output_type": "stream",
     "text": [
      "Tiempo transcurrido: 0.47 segundos\n"
     ]
    }
   ],
   "source": [
    "print(\"Tiempo transcurrido: \" + str(round(end - start, 2)) + \" segundos\")"
   ]
  },
  {
   "cell_type": "code",
   "execution_count": 23,
   "id": "9f43d30f",
   "metadata": {},
   "outputs": [
    {
     "name": "stdout",
     "output_type": "stream",
     "text": [
      "--------------------------------------------------------------\n",
      "--------------------- FIXTURE PARA TODOS ---------------------\n",
      "--------------------------------------------------------------\n",
      "\n",
      "Fecha 1:\n",
      "\tUnion\t\t\tVs.\t\tRosario Central\n",
      "\tNewells\t\t\tVs.\t\tBelgrano\n",
      "\tRiver Plate\t\tVs.\t\tColon\n",
      "\tTalleres\t\tVs.\t\tBoca Juniors\n",
      "\n",
      "Fecha 2:\n",
      "\tColon\t\t\tVs.\t\tRosario Central\n",
      "\tRiver Plate\t\tVs.\t\tTalleres\n",
      "\tBelgrano\t\tVs.\t\tUnion\n",
      "\tNewells\t\t\tVs.\t\tBoca Juniors\n",
      "\n",
      "Fecha 3:\n",
      "\tColon\t\t\tVs.\t\tBelgrano\n",
      "\tTalleres\t\tVs.\t\tNewells\n",
      "\tRosario Central\t\tVs.\t\tRiver Plate\n",
      "\tBoca Juniors\t\tVs.\t\tUnion\n",
      "\n",
      "Fecha 4:\n",
      "\tBoca Juniors\t\tVs.\t\tColon\n",
      "\tNewells\t\t\tVs.\t\tRosario Central\n",
      "\tUnion\t\t\tVs.\t\tTalleres\n",
      "\tBelgrano\t\tVs.\t\tRiver Plate\n",
      "\n",
      "Fecha 5:\n",
      "\tRiver Plate\t\tVs.\t\tUnion\n",
      "\tRosario Central\t\tVs.\t\tBoca Juniors\n",
      "\tBelgrano\t\tVs.\t\tTalleres\n",
      "\tColon\t\t\tVs.\t\tNewells\n",
      "\n",
      "Fecha 6:\n",
      "\tUnion\t\t\tVs.\t\tNewells\n",
      "\tRosario Central\t\tVs.\t\tBelgrano\n",
      "\tBoca Juniors\t\tVs.\t\tRiver Plate\n",
      "\tTalleres\t\tVs.\t\tColon\n",
      "\n",
      "Fecha 7:\n",
      "\tBoca Juniors\t\tVs.\t\tBelgrano\n",
      "\tTalleres\t\tVs.\t\tRosario Central\n",
      "\tColon\t\t\tVs.\t\tUnion\n",
      "\tNewells\t\t\tVs.\t\tRiver Plate\n"
     ]
    }
   ],
   "source": [
    "fixture_manager.print(optimized_fixture)"
   ]
  },
  {
   "cell_type": "markdown",
   "id": "d5a0b2a8",
   "metadata": {},
   "source": [
    "### Validación"
   ]
  },
  {
   "cell_type": "code",
   "execution_count": 24,
   "id": "40423f58",
   "metadata": {},
   "outputs": [
    {
     "name": "stdout",
     "output_type": "stream",
     "text": [
      "¿Fixture compatible?\n"
     ]
    },
    {
     "data": {
      "text/plain": [
       "True"
      ]
     },
     "execution_count": 24,
     "metadata": {},
     "output_type": "execute_result"
    }
   ],
   "source": [
    "print(\"¿Fixture compatible?\")\n",
    "fixture_manager.is_compatible(optimized_fixture)"
   ]
  },
  {
   "cell_type": "markdown",
   "id": "b1b5ccc0",
   "metadata": {},
   "source": [
    "### Cálculo de la varianza"
   ]
  },
  {
   "cell_type": "code",
   "execution_count": 25,
   "id": "68211d3a",
   "metadata": {},
   "outputs": [
    {
     "data": {
      "text/plain": [
       "961.65"
      ]
     },
     "execution_count": 25,
     "metadata": {},
     "output_type": "execute_result"
    }
   ],
   "source": [
    "optimized_variance = fixture_manager.calculate_km_travelled_variance(optimized_fixture)\n",
    "optimized_variance"
   ]
  },
  {
   "cell_type": "markdown",
   "id": "edd538b0",
   "metadata": {},
   "source": [
    "### Mejora respecto del fixture inicial"
   ]
  },
  {
   "cell_type": "code",
   "execution_count": 26,
   "id": "9d9dd480",
   "metadata": {},
   "outputs": [
    {
     "name": "stdout",
     "output_type": "stream",
     "text": [
      "Varianza del fixture inicial: 1135.32 km\n"
     ]
    }
   ],
   "source": [
    "print(\"Varianza del fixture inicial: \" + str(initial_variance) + \" km\")"
   ]
  },
  {
   "cell_type": "code",
   "execution_count": 27,
   "id": "7b2f95f0",
   "metadata": {},
   "outputs": [
    {
     "name": "stdout",
     "output_type": "stream",
     "text": [
      "Varianza del fixture final: 961.65 km\n"
     ]
    }
   ],
   "source": [
    "print(\"Varianza del fixture final: \" + str(optimized_variance) + \" km\")"
   ]
  },
  {
   "cell_type": "code",
   "execution_count": 28,
   "id": "7e19c0cb",
   "metadata": {},
   "outputs": [
    {
     "name": "stdout",
     "output_type": "stream",
     "text": [
      "Porcentaje de mejora: 15.3%\n"
     ]
    }
   ],
   "source": [
    "print(\"Porcentaje de mejora: \" +\n",
    "      str(round(fixture_manager.calculate_improve_perc(initial_variance, optimized_variance), 2)) + \"%\")"
   ]
  },
  {
   "cell_type": "markdown",
   "id": "8f36b95a",
   "metadata": {},
   "source": [
    "### Descarga del fixture en formato txt"
   ]
  },
  {
   "cell_type": "code",
   "execution_count": 29,
   "id": "53a4ac0a",
   "metadata": {},
   "outputs": [],
   "source": [
    "fixture_manager.download(optimized_fixture)"
   ]
  }
 ],
 "metadata": {
  "kernelspec": {
   "display_name": "Python 3 (ipykernel)",
   "language": "python",
   "name": "python3"
  },
  "language_info": {
   "codemirror_mode": {
    "name": "ipython",
    "version": 3
   },
   "file_extension": ".py",
   "mimetype": "text/x-python",
   "name": "python",
   "nbconvert_exporter": "python",
   "pygments_lexer": "ipython3",
   "version": "3.9.1"
  }
 },
 "nbformat": 4,
 "nbformat_minor": 5
}
